{
 "cells": [
  {
   "cell_type": "markdown",
   "id": "9f556ac4",
   "metadata": {},
   "source": [
    "Objective:\n",
    "Use DistilBERT to extract meaningful features from our text-based columns.\n",
    "- Might need to fine-tune DistilBERT to our data (figure out how to do this)\n",
    "- Need to learn to use DistilBERT for:\n",
    "    - email addresses\n",
    "    - URLs\n",
    "    - paragraphs\n",
    "- Double check proposal: I looked into this before, and I figured out how to \n",
    "    do the paragraphs. I even chose a pooling method. I think it's mentioned, \n",
    "    along with the paper I referenced to choose it."
   ]
  },
  {
   "cell_type": "code",
   "execution_count": null,
   "id": "b105ee34",
   "metadata": {},
   "outputs": [],
   "source": []
  }
 ],
 "metadata": {
  "kernelspec": {
   "display_name": "Python (myenv)",
   "language": "python",
   "name": "myenv"
  },
  "language_info": {
   "codemirror_mode": {
    "name": "ipython",
    "version": 3
   },
   "file_extension": ".py",
   "mimetype": "text/x-python",
   "name": "python",
   "nbconvert_exporter": "python",
   "pygments_lexer": "ipython3",
   "version": "3.11.9"
  }
 },
 "nbformat": 4,
 "nbformat_minor": 5
}
