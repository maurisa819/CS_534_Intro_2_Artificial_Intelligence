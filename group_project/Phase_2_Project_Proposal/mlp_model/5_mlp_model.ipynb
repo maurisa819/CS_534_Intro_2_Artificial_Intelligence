{
 "cells": [
  {
   "cell_type": "code",
   "execution_count": 1,
   "id": "2b9a15a2-aae5-454e-8194-5c5bc2a519a7",
   "metadata": {},
   "outputs": [
    {
     "name": "stderr",
     "output_type": "stream",
     "text": [
      "2025-07-04 08:51:54.923620: I tensorflow/core/util/port.cc:153] oneDNN custom operations are on. You may see slightly different numerical results due to floating-point round-off errors from different computation orders. To turn them off, set the environment variable `TF_ENABLE_ONEDNN_OPTS=0`.\n",
      "2025-07-04 08:51:54.924224: I external/local_xla/xla/tsl/cuda/cudart_stub.cc:32] Could not find cuda drivers on your machine, GPU will not be used.\n",
      "2025-07-04 08:51:54.926358: I external/local_xla/xla/tsl/cuda/cudart_stub.cc:32] Could not find cuda drivers on your machine, GPU will not be used.\n",
      "2025-07-04 08:51:54.931595: E external/local_xla/xla/stream_executor/cuda/cuda_fft.cc:467] Unable to register cuFFT factory: Attempting to register factory for plugin cuFFT when one has already been registered\n",
      "WARNING: All log messages before absl::InitializeLog() is called are written to STDERR\n",
      "E0000 00:00:1751644314.941137  371801 cuda_dnn.cc:8579] Unable to register cuDNN factory: Attempting to register factory for plugin cuDNN when one has already been registered\n",
      "E0000 00:00:1751644314.943900  371801 cuda_blas.cc:1407] Unable to register cuBLAS factory: Attempting to register factory for plugin cuBLAS when one has already been registered\n",
      "W0000 00:00:1751644314.951237  371801 computation_placer.cc:177] computation placer already registered. Please check linkage and avoid linking the same target more than once.\n",
      "W0000 00:00:1751644314.951246  371801 computation_placer.cc:177] computation placer already registered. Please check linkage and avoid linking the same target more than once.\n",
      "W0000 00:00:1751644314.951246  371801 computation_placer.cc:177] computation placer already registered. Please check linkage and avoid linking the same target more than once.\n",
      "W0000 00:00:1751644314.951247  371801 computation_placer.cc:177] computation placer already registered. Please check linkage and avoid linking the same target more than once.\n",
      "2025-07-04 08:51:54.953767: I tensorflow/core/platform/cpu_feature_guard.cc:210] This TensorFlow binary is optimized to use available CPU instructions in performance-critical operations.\n",
      "To enable the following instructions: AVX2 AVX_VNNI FMA, in other operations, rebuild TensorFlow with the appropriate compiler flags.\n"
     ]
    }
   ],
   "source": [
    "### Imports #####\n",
    "import pandas as pd\n",
    "import numpy as np\n",
    "from sklearn.model_selection import train_test_split\n",
    "from sklearn.feature_extraction.text import TfidfVectorizer\n",
    "from sklearn.metrics import classification_report, accuracy_score\n",
    "import matplotlib.pyplot as plt\n",
    "from tensorflow.keras.models import Sequential\n",
    "from tensorflow.keras.layers import Dense, Dropout, Input\n",
    "from graphviz import Digraph"
   ]
  },
  {
   "cell_type": "code",
   "execution_count": 2,
   "id": "d8afa442-8ea8-4a42-bb3d-5b37828c83ff",
   "metadata": {},
   "outputs": [
    {
     "name": "stdout",
     "output_type": "stream",
     "text": [
      "\u001b[2mUsing Python 3.11.9 environment at: .env\u001b[0m\n",
      "Package                      Version\n",
      "---------------------------- --------------\n",
      "absl-py                      2.3.1\n",
      "anyio                        4.9.0\n",
      "argon2-cffi                  25.1.0\n",
      "argon2-cffi-bindings         21.2.0\n",
      "arrow                        1.3.0\n",
      "asttokens                    3.0.0\n",
      "astunparse                   1.6.3\n",
      "async-lru                    2.0.5\n",
      "attrs                        25.3.0\n",
      "babel                        2.17.0\n",
      "beautifulsoup4               4.13.4\n",
      "bleach                       6.2.0\n",
      "certifi                      2025.6.15\n",
      "cffi                         1.17.1\n",
      "charset-normalizer           3.4.2\n",
      "comm                         0.2.2\n",
      "contourpy                    1.3.2\n",
      "cycler                       0.12.1\n",
      "debugpy                      1.8.14\n",
      "decorator                    5.2.1\n",
      "defusedxml                   0.7.1\n",
      "executing                    2.2.0\n",
      "fastjsonschema               2.21.1\n",
      "filelock                     3.18.0\n",
      "flatbuffers                  25.2.10\n",
      "fonttools                    4.58.5\n",
      "fqdn                         1.5.1\n",
      "gast                         0.6.0\n",
      "google-pasta                 0.2.0\n",
      "graphviz                     0.21\n",
      "grpcio                       1.73.1\n",
      "h11                          0.16.0\n",
      "h5py                         3.14.0\n",
      "httpcore                     1.0.9\n",
      "httpx                        0.28.1\n",
      "idna                         3.10\n",
      "ipykernel                    6.29.5\n",
      "ipython                      9.4.0\n",
      "ipython-pygments-lexers      1.1.1\n",
      "isoduration                  20.11.0\n",
      "jedi                         0.19.2\n",
      "jinja2                       3.1.6\n",
      "joblib                       1.5.1\n",
      "json5                        0.12.0\n",
      "jsonpointer                  3.0.0\n",
      "jsonschema                   4.24.0\n",
      "jsonschema-specifications    2025.4.1\n",
      "jupyter-client               8.6.3\n",
      "jupyter-core                 5.8.1\n",
      "jupyter-events               0.12.0\n",
      "jupyter-lsp                  2.2.5\n",
      "jupyter-server               2.16.0\n",
      "jupyter-server-terminals     0.5.3\n",
      "jupyterlab                   4.4.4\n",
      "jupyterlab-pygments          0.3.0\n",
      "jupyterlab-server            2.27.3\n",
      "keras                        3.10.0\n",
      "kiwisolver                   1.4.8\n",
      "libclang                     18.1.1\n",
      "markdown                     3.8.2\n",
      "markdown-it-py               3.0.0\n",
      "markupsafe                   3.0.2\n",
      "matplotlib                   3.10.3\n",
      "matplotlib-inline            0.1.7\n",
      "mdurl                        0.1.2\n",
      "mistune                      3.1.3\n",
      "ml-dtypes                    0.5.1\n",
      "namex                        0.1.0\n",
      "nbclient                     0.10.2\n",
      "nbconvert                    7.16.6\n",
      "nbformat                     5.10.4\n",
      "nest-asyncio                 1.6.0\n",
      "notebook-shim                0.2.4\n",
      "numpy                        2.1.3\n",
      "opt-einsum                   3.4.0\n",
      "optree                       0.16.0\n",
      "overrides                    7.7.0\n",
      "packaging                    25.0\n",
      "pandas                       2.3.0\n",
      "pandocfilters                1.5.1\n",
      "parso                        0.8.4\n",
      "pexpect                      4.9.0\n",
      "pillow                       11.3.0\n",
      "platformdirs                 4.3.8\n",
      "prometheus-client            0.22.1\n",
      "prompt-toolkit               3.0.51\n",
      "protobuf                     5.29.5\n",
      "psutil                       7.0.0\n",
      "ptyprocess                   0.7.0\n",
      "pure-eval                    0.2.3\n",
      "pycparser                    2.22\n",
      "pygments                     2.19.2\n",
      "pyparsing                    3.2.3\n",
      "python-dateutil              2.9.0.post0\n",
      "python-json-logger           3.3.0\n",
      "pytz                         2025.2\n",
      "pyyaml                       6.0.2\n",
      "pyzmq                        27.0.0\n",
      "referencing                  0.36.2\n",
      "requests                     2.32.4\n",
      "rfc3339-validator            0.1.4\n",
      "rfc3986-validator            0.1.1\n",
      "rich                         14.0.0\n",
      "rpds-py                      0.26.0\n",
      "scikit-learn                 1.7.0\n",
      "scipy                        1.16.0\n",
      "send2trash                   1.8.3\n",
      "setuptools                   80.9.0\n",
      "six                          1.17.0\n",
      "sniffio                      1.3.1\n",
      "soupsieve                    2.7\n",
      "stack-data                   0.6.3\n",
      "tensorboard                  2.19.0\n",
      "tensorboard-data-server      0.7.2\n",
      "tensorflow                   2.19.0\n",
      "tensorflow-io-gcs-filesystem 0.37.1\n",
      "termcolor                    3.1.0\n",
      "terminado                    0.18.1\n",
      "threadpoolctl                3.6.0\n",
      "tinycss2                     1.4.0\n",
      "tornado                      6.5.1\n",
      "traitlets                    5.14.3\n",
      "types-python-dateutil        2.9.0.20250516\n",
      "typing-extensions            4.14.1\n",
      "tzdata                       2025.2\n",
      "uri-template                 1.3.0\n",
      "uritools                     5.0.0\n",
      "urlextract                   1.9.0\n",
      "urllib3                      2.5.0\n",
      "wcwidth                      0.2.13\n",
      "webcolors                    24.11.1\n",
      "webencodings                 0.5.1\n",
      "websocket-client             1.8.0\n",
      "werkzeug                     3.1.3\n",
      "wheel                        0.45.1\n",
      "wrapt                        1.17.2\n"
     ]
    }
   ],
   "source": [
    "!uv pip list"
   ]
  },
  {
   "cell_type": "code",
   "execution_count": 3,
   "id": "24fb9fe4-ba32-4d1f-b549-ea1e687c26ad",
   "metadata": {},
   "outputs": [],
   "source": [
    "# 1. Load dataset from the raw GitHub CSV link\n",
    "data_set = \"Split_Data/Uncleaned/CEAS_08_train.csv\"\n",
    "df = pd.read_csv(data_set)"
   ]
  },
  {
   "cell_type": "code",
   "execution_count": 4,
   "id": "cf7258ab-3cd0-4632-b780-337ce014be4d",
   "metadata": {},
   "outputs": [
    {
     "name": "stdout",
     "output_type": "stream",
     "text": [
      "                                              sender  \\\n",
      "0      Rick Riley <ClydepooleFox@prettyactivity.com>   \n",
      "1    Clifford Hamilton <Clifford@studentjourney.org>   \n",
      "2  Hunter Holliday <sowinghv7@allwestfurnishing.com>   \n",
      "3                    Perl Jobs <xycn-vtnhz@perl.org>   \n",
      "4                      Asif Iqbal <qckkk5@gmail.com>   \n",
      "\n",
      "                             receiver                             date  \\\n",
      "0      user2.11@gvc.ceas-challenge.cc  Fri, 08 Aug 2008 11:54:58 -0200   \n",
      "1    user7-ext1@gvc.ceas-challenge.cc  Thu, 07 Aug 2008 18:32:09 +0700   \n",
      "2  user8.2-ext1@gvc.ceas-challenge.cc  Wed, 06 Aug 2008 16:23:32 +0100   \n",
      "3                       necc@perl.org  Wed, 06 Aug 2008 21:55:07 -0800   \n",
      "4       zqoqi@spamassassin.apache.org  Fri, 08 Aug 2008 00:18:34 -0500   \n",
      "\n",
      "                                             subject  \\\n",
      "0  Which Ones Really Work? We List The Top Penis ...   \n",
      "1                           Make women crave for it!   \n",
      "2                           WelcomeCanadianTakeALook   \n",
      "3  [Perl Jobs] mod_perl Entwickler bei Schweizer ...   \n",
      "4                          Re: Reduce the spam score   \n",
      "\n",
      "                                                body  label  urls  \n",
      "0  \\nImpress the ladies with the new tool in your...      1     1  \n",
      "1  This will fill your woman's heart with love an...      1     1  \n",
      "2  \\nAllProductsEmedsInternationalPharmacy\\nhttp:...      1     1  \n",
      "3  Online URL for this job: http://jobs.perl.org/...      0     1  \n",
      "4  On Wed, Feb 27, 2008 at 6:21 PM, Daryl C. W. O...      0     0  \n",
      "\n",
      "_______________________________________\n",
      "\n",
      "label\n",
      "1    13980\n",
      "0    11078\n",
      "Name: count, dtype: int64\n"
     ]
    }
   ],
   "source": [
    "# Display first rows and label balance for initial inspection\n",
    "print(df.head())\n",
    "print(\"\\n_______________________________________\\n\")\n",
    "print(df['label'].value_counts())"
   ]
  },
  {
   "cell_type": "code",
   "execution_count": 5,
   "id": "708c5ad4-4996-480e-b321-ade549316e82",
   "metadata": {},
   "outputs": [],
   "source": [
    "# 2. Prepare the features (email text) and target (label)\n",
    "X = df['sender']  # the email content column\n",
    "y = df['label'].values"
   ]
  },
  {
   "cell_type": "code",
   "execution_count": 6,
   "id": "4ae67144-bf31-4cb3-a0f1-c9f2b3d9a218",
   "metadata": {},
   "outputs": [],
   "source": [
    "# 3. Convert text emails to TF-IDF vectors (numerical feature vectors)\n",
    "vectorizer = TfidfVectorizer(max_features=5000, stop_words='english')  # limit vocabulary for speed\n",
    "X_vect = vectorizer.fit_transform(X).toarray()  # fit to all data, transform to matrix"
   ]
  },
  {
   "cell_type": "code",
   "execution_count": 7,
   "id": "a1e4f2dd-1f1c-4933-98dc-fb0d6818ceeb",
   "metadata": {},
   "outputs": [],
   "source": [
    "# 4. Split dataset into training and testing sets (stratified to preserve label ratio)\n",
    "X_train, X_test, y_train, y_test = train_test_split(\n",
    "    X_vect, y, test_size=0.2, random_state=42, stratify=y\n",
    ")"
   ]
  },
  {
   "cell_type": "code",
   "execution_count": 8,
   "id": "e9c50982-711f-48d0-aad6-b57f369cb9e8",
   "metadata": {},
   "outputs": [
    {
     "name": "stderr",
     "output_type": "stream",
     "text": [
      "E0000 00:00:1751644322.371803  371801 cuda_executor.cc:1228] INTERNAL: CUDA Runtime error: Failed call to cudaGetRuntimeVersion: Error loading CUDA libraries. GPU will not be used.: Error loading CUDA libraries. GPU will not be used.\n",
      "W0000 00:00:1751644322.375869  371801 gpu_device.cc:2341] Cannot dlopen some GPU libraries. Please make sure the missing libraries mentioned above are installed properly if you would like to use GPU. Follow the guide at https://www.tensorflow.org/install/gpu for how to download and setup the required libraries for your platform.\n",
      "Skipping registering GPU devices...\n"
     ]
    }
   ],
   "source": [
    "# 5. Build a Multi-Layer Perceptron (MLP) model\n",
    "# Initialize a sequential model\n",
    "model = Sequential([\n",
    "    Input(shape=(X_train.shape[1],)),      # 1. Input layer: specifies the shape of each input sample\n",
    "    Dense(256, activation='relu'),         # 2. First hidden layer: 256 neurons, ReLU activation\n",
    "    Dropout(0.4),                          # 3. Dropout: randomly sets 40% of inputs to zero during training (regularization)\n",
    "    Dense(64, activation='relu'),          # 4. Second hidden layer: 64 neurons, ReLU activation\n",
    "    Dropout(0.3),                          # 5. Dropout: 30% dropout rate for further regularization\n",
    "    Dense(1, activation='sigmoid')         # 6. Output layer: 1 neuron, sigmoid activation for binary classification\n",
    "])"
   ]
  },
  {
   "cell_type": "code",
   "execution_count": 9,
   "id": "c4946352-a9f6-448f-8f57-a32eda5ea45b",
   "metadata": {},
   "outputs": [
    {
     "data": {
      "text/html": [
       "<pre style=\"white-space:pre;overflow-x:auto;line-height:normal;font-family:Menlo,'DejaVu Sans Mono',consolas,'Courier New',monospace\"><span style=\"font-weight: bold\">Model: \"sequential\"</span>\n",
       "</pre>\n"
      ],
      "text/plain": [
       "\u001b[1mModel: \"sequential\"\u001b[0m\n"
      ]
     },
     "metadata": {},
     "output_type": "display_data"
    },
    {
     "data": {
      "text/html": [
       "<pre style=\"white-space:pre;overflow-x:auto;line-height:normal;font-family:Menlo,'DejaVu Sans Mono',consolas,'Courier New',monospace\">┏━━━━━━━━━━━━━━━━━━━━━━━━━━━━━━━━━┳━━━━━━━━━━━━━━━━━━━━━━━━┳━━━━━━━━━━━━━━━┓\n",
       "┃<span style=\"font-weight: bold\"> Layer (type)                    </span>┃<span style=\"font-weight: bold\"> Output Shape           </span>┃<span style=\"font-weight: bold\">       Param # </span>┃\n",
       "┡━━━━━━━━━━━━━━━━━━━━━━━━━━━━━━━━━╇━━━━━━━━━━━━━━━━━━━━━━━━╇━━━━━━━━━━━━━━━┩\n",
       "│ dense (<span style=\"color: #0087ff; text-decoration-color: #0087ff\">Dense</span>)                   │ (<span style=\"color: #00d7ff; text-decoration-color: #00d7ff\">None</span>, <span style=\"color: #00af00; text-decoration-color: #00af00\">256</span>)            │     <span style=\"color: #00af00; text-decoration-color: #00af00\">1,280,256</span> │\n",
       "├─────────────────────────────────┼────────────────────────┼───────────────┤\n",
       "│ dropout (<span style=\"color: #0087ff; text-decoration-color: #0087ff\">Dropout</span>)               │ (<span style=\"color: #00d7ff; text-decoration-color: #00d7ff\">None</span>, <span style=\"color: #00af00; text-decoration-color: #00af00\">256</span>)            │             <span style=\"color: #00af00; text-decoration-color: #00af00\">0</span> │\n",
       "├─────────────────────────────────┼────────────────────────┼───────────────┤\n",
       "│ dense_1 (<span style=\"color: #0087ff; text-decoration-color: #0087ff\">Dense</span>)                 │ (<span style=\"color: #00d7ff; text-decoration-color: #00d7ff\">None</span>, <span style=\"color: #00af00; text-decoration-color: #00af00\">64</span>)             │        <span style=\"color: #00af00; text-decoration-color: #00af00\">16,448</span> │\n",
       "├─────────────────────────────────┼────────────────────────┼───────────────┤\n",
       "│ dropout_1 (<span style=\"color: #0087ff; text-decoration-color: #0087ff\">Dropout</span>)             │ (<span style=\"color: #00d7ff; text-decoration-color: #00d7ff\">None</span>, <span style=\"color: #00af00; text-decoration-color: #00af00\">64</span>)             │             <span style=\"color: #00af00; text-decoration-color: #00af00\">0</span> │\n",
       "├─────────────────────────────────┼────────────────────────┼───────────────┤\n",
       "│ dense_2 (<span style=\"color: #0087ff; text-decoration-color: #0087ff\">Dense</span>)                 │ (<span style=\"color: #00d7ff; text-decoration-color: #00d7ff\">None</span>, <span style=\"color: #00af00; text-decoration-color: #00af00\">1</span>)              │            <span style=\"color: #00af00; text-decoration-color: #00af00\">65</span> │\n",
       "└─────────────────────────────────┴────────────────────────┴───────────────┘\n",
       "</pre>\n"
      ],
      "text/plain": [
       "┏━━━━━━━━━━━━━━━━━━━━━━━━━━━━━━━━━┳━━━━━━━━━━━━━━━━━━━━━━━━┳━━━━━━━━━━━━━━━┓\n",
       "┃\u001b[1m \u001b[0m\u001b[1mLayer (type)                   \u001b[0m\u001b[1m \u001b[0m┃\u001b[1m \u001b[0m\u001b[1mOutput Shape          \u001b[0m\u001b[1m \u001b[0m┃\u001b[1m \u001b[0m\u001b[1m      Param #\u001b[0m\u001b[1m \u001b[0m┃\n",
       "┡━━━━━━━━━━━━━━━━━━━━━━━━━━━━━━━━━╇━━━━━━━━━━━━━━━━━━━━━━━━╇━━━━━━━━━━━━━━━┩\n",
       "│ dense (\u001b[38;5;33mDense\u001b[0m)                   │ (\u001b[38;5;45mNone\u001b[0m, \u001b[38;5;34m256\u001b[0m)            │     \u001b[38;5;34m1,280,256\u001b[0m │\n",
       "├─────────────────────────────────┼────────────────────────┼───────────────┤\n",
       "│ dropout (\u001b[38;5;33mDropout\u001b[0m)               │ (\u001b[38;5;45mNone\u001b[0m, \u001b[38;5;34m256\u001b[0m)            │             \u001b[38;5;34m0\u001b[0m │\n",
       "├─────────────────────────────────┼────────────────────────┼───────────────┤\n",
       "│ dense_1 (\u001b[38;5;33mDense\u001b[0m)                 │ (\u001b[38;5;45mNone\u001b[0m, \u001b[38;5;34m64\u001b[0m)             │        \u001b[38;5;34m16,448\u001b[0m │\n",
       "├─────────────────────────────────┼────────────────────────┼───────────────┤\n",
       "│ dropout_1 (\u001b[38;5;33mDropout\u001b[0m)             │ (\u001b[38;5;45mNone\u001b[0m, \u001b[38;5;34m64\u001b[0m)             │             \u001b[38;5;34m0\u001b[0m │\n",
       "├─────────────────────────────────┼────────────────────────┼───────────────┤\n",
       "│ dense_2 (\u001b[38;5;33mDense\u001b[0m)                 │ (\u001b[38;5;45mNone\u001b[0m, \u001b[38;5;34m1\u001b[0m)              │            \u001b[38;5;34m65\u001b[0m │\n",
       "└─────────────────────────────────┴────────────────────────┴───────────────┘\n"
      ]
     },
     "metadata": {},
     "output_type": "display_data"
    },
    {
     "data": {
      "text/html": [
       "<pre style=\"white-space:pre;overflow-x:auto;line-height:normal;font-family:Menlo,'DejaVu Sans Mono',consolas,'Courier New',monospace\"><span style=\"font-weight: bold\"> Total params: </span><span style=\"color: #00af00; text-decoration-color: #00af00\">1,296,769</span> (4.95 MB)\n",
       "</pre>\n"
      ],
      "text/plain": [
       "\u001b[1m Total params: \u001b[0m\u001b[38;5;34m1,296,769\u001b[0m (4.95 MB)\n"
      ]
     },
     "metadata": {},
     "output_type": "display_data"
    },
    {
     "data": {
      "text/html": [
       "<pre style=\"white-space:pre;overflow-x:auto;line-height:normal;font-family:Menlo,'DejaVu Sans Mono',consolas,'Courier New',monospace\"><span style=\"font-weight: bold\"> Trainable params: </span><span style=\"color: #00af00; text-decoration-color: #00af00\">1,296,769</span> (4.95 MB)\n",
       "</pre>\n"
      ],
      "text/plain": [
       "\u001b[1m Trainable params: \u001b[0m\u001b[38;5;34m1,296,769\u001b[0m (4.95 MB)\n"
      ]
     },
     "metadata": {},
     "output_type": "display_data"
    },
    {
     "data": {
      "text/html": [
       "<pre style=\"white-space:pre;overflow-x:auto;line-height:normal;font-family:Menlo,'DejaVu Sans Mono',consolas,'Courier New',monospace\"><span style=\"font-weight: bold\"> Non-trainable params: </span><span style=\"color: #00af00; text-decoration-color: #00af00\">0</span> (0.00 B)\n",
       "</pre>\n"
      ],
      "text/plain": [
       "\u001b[1m Non-trainable params: \u001b[0m\u001b[38;5;34m0\u001b[0m (0.00 B)\n"
      ]
     },
     "metadata": {},
     "output_type": "display_data"
    }
   ],
   "source": [
    "# Compile the model with optimizer, loss function, and metric\n",
    "model.compile(optimizer='adam', loss='binary_crossentropy', metrics=['accuracy'])\n",
    "model.summary()  # show model architecture"
   ]
  },
  {
   "cell_type": "code",
   "execution_count": 10,
   "id": "8b695e9b-565e-4b97-be87-e5f6672ea012",
   "metadata": {},
   "outputs": [
    {
     "name": "stdout",
     "output_type": "stream",
     "text": [
      "Epoch 1/8\n",
      "\u001b[1m251/251\u001b[0m \u001b[32m━━━━━━━━━━━━━━━━━━━━\u001b[0m\u001b[37m\u001b[0m \u001b[1m2s\u001b[0m 5ms/step - accuracy: 0.7397 - loss: 0.4998 - val_accuracy: 0.9419 - val_loss: 0.1595\n",
      "Epoch 2/8\n",
      "\u001b[1m251/251\u001b[0m \u001b[32m━━━━━━━━━━━━━━━━━━━━\u001b[0m\u001b[37m\u001b[0m \u001b[1m1s\u001b[0m 5ms/step - accuracy: 0.9576 - loss: 0.1180 - val_accuracy: 0.9476 - val_loss: 0.1452\n",
      "Epoch 3/8\n",
      "\u001b[1m251/251\u001b[0m \u001b[32m━━━━━━━━━━━━━━━━━━━━\u001b[0m\u001b[37m\u001b[0m \u001b[1m1s\u001b[0m 5ms/step - accuracy: 0.9667 - loss: 0.0860 - val_accuracy: 0.9464 - val_loss: 0.1482\n",
      "Epoch 4/8\n",
      "\u001b[1m251/251\u001b[0m \u001b[32m━━━━━━━━━━━━━━━━━━━━\u001b[0m\u001b[37m\u001b[0m \u001b[1m1s\u001b[0m 5ms/step - accuracy: 0.9742 - loss: 0.0693 - val_accuracy: 0.9464 - val_loss: 0.1552\n",
      "Epoch 5/8\n",
      "\u001b[1m251/251\u001b[0m \u001b[32m━━━━━━━━━━━━━━━━━━━━\u001b[0m\u001b[37m\u001b[0m \u001b[1m1s\u001b[0m 5ms/step - accuracy: 0.9788 - loss: 0.0606 - val_accuracy: 0.9469 - val_loss: 0.1691\n",
      "Epoch 6/8\n",
      "\u001b[1m251/251\u001b[0m \u001b[32m━━━━━━━━━━━━━━━━━━━━\u001b[0m\u001b[37m\u001b[0m \u001b[1m1s\u001b[0m 5ms/step - accuracy: 0.9792 - loss: 0.0577 - val_accuracy: 0.9464 - val_loss: 0.1800\n",
      "Epoch 7/8\n",
      "\u001b[1m251/251\u001b[0m \u001b[32m━━━━━━━━━━━━━━━━━━━━\u001b[0m\u001b[37m\u001b[0m \u001b[1m1s\u001b[0m 4ms/step - accuracy: 0.9790 - loss: 0.0575 - val_accuracy: 0.9469 - val_loss: 0.1781\n",
      "Epoch 8/8\n",
      "\u001b[1m251/251\u001b[0m \u001b[32m━━━━━━━━━━━━━━━━━━━━\u001b[0m\u001b[37m\u001b[0m \u001b[1m1s\u001b[0m 5ms/step - accuracy: 0.9823 - loss: 0.0510 - val_accuracy: 0.9466 - val_loss: 0.1872\n"
     ]
    }
   ],
   "source": [
    "# 6. Train the model on the training data, validating on 20% of training data each epoch\n",
    "history = model.fit(X_train, y_train, epochs=8, batch_size=64, validation_split=0.2)\n"
   ]
  },
  {
   "cell_type": "code",
   "execution_count": 11,
   "id": "8b9071e1-31c5-4ffe-8787-e2ccd632e462",
   "metadata": {},
   "outputs": [
    {
     "name": "stdout",
     "output_type": "stream",
     "text": [
      "\u001b[1m157/157\u001b[0m \u001b[32m━━━━━━━━━━━━━━━━━━━━\u001b[0m\u001b[37m\u001b[0m \u001b[1m0s\u001b[0m 2ms/step\n",
      "              precision    recall  f1-score   support\n",
      "\n",
      "           0       0.93      0.93      0.93      2216\n",
      "           1       0.94      0.95      0.95      2796\n",
      "\n",
      "    accuracy                           0.94      5012\n",
      "   macro avg       0.94      0.94      0.94      5012\n",
      "weighted avg       0.94      0.94      0.94      5012\n",
      "\n",
      "Accuracy: 0.9393455706304868\n"
     ]
    }
   ],
   "source": [
    "# 7. Predict on the test set (outputs probability, so threshold > 0.5 means phishing)\n",
    "y_pred = (model.predict(X_test) > 0.5).astype(int)\n",
    "print(classification_report(y_test, y_pred))  # print precision/recall/F1 for both classes\n",
    "print(\"Accuracy:\", accuracy_score(y_test, y_pred))  # overall accuracy"
   ]
  },
  {
   "cell_type": "code",
   "execution_count": 12,
   "id": "eb70bd9c-271b-4051-a488-4a035c1a73df",
   "metadata": {},
   "outputs": [
    {
     "data": {
      "image/png": "[encoded data removed]",
      "text/plain": [
       "<Figure size 1200x400 with 2 Axes>"
      ]
     },
     "metadata": {},
     "output_type": "display_data"
    }
   ],
   "source": [
    "# 8. Plot accuracy and loss curves for training and validation to visualize learning progress\n",
    "plt.figure(figsize=(12,4))\n",
    "\n",
    "# Plot accuracy curve\n",
    "plt.subplot(1,2,1)\n",
    "plt.plot(history.history['accuracy'], label='Train')\n",
    "plt.plot(history.history['val_accuracy'], label='Val')\n",
    "plt.title('Model Accuracy')\n",
    "plt.xlabel('Epoch')\n",
    "plt.ylabel('Accuracy')\n",
    "plt.legend()\n",
    "\n",
    "# Plot loss curve\n",
    "plt.subplot(1,2,2)\n",
    "plt.plot(history.history['loss'], label='Train')\n",
    "plt.plot(history.history['val_loss'], label='Val')\n",
    "plt.title('Model Loss')\n",
    "plt.xlabel('Epoch')\n",
    "plt.ylabel('Loss')\n",
    "plt.legend()\n",
    "\n",
    "plt.show()"
   ]
  },
  {
   "cell_type": "code",
   "execution_count": 22,
   "id": "39229445-8baf-4cf0-b8e6-b1f47bf0a220",
   "metadata": {},
   "outputs": [
    {
     "data": {
      "image/png": "[encoded data removed]",
      "text/plain": [
       "<Figure size 900x200 with 1 Axes>"
      ]
     },
     "metadata": {},
     "output_type": "display_data"
    }
   ],
   "source": [
    "# Create a figure and axis object with a wide aspect ratio for the pipeline\n",
    "fig, ax = plt.subplots(figsize=(9,2))  \n",
    "\n",
    "\n",
    "ax.axis('off')  # Hide the axis lines and ticks for a cleaner visual (no coordinate grid)\n",
    "\n",
    "# Place a text box labeled \"Raw Emails\" at (0.05, 0.5) with a blue background; larger font for visibility\n",
    "ax.text(0.05, 0.5, \"Raw Emails\", bbox=dict(facecolor='skyblue', alpha=0.5), fontsize=14)\n",
    "\n",
    "# Draw an arrow from \"Raw Emails\" to the next box (rightwards), with gray color and arrowhead\n",
    "ax.arrow(0.23, 0.5, 0.12, 0, head_width=0.05, head_length=0.02, fc='gray', ec='gray')\n",
    "\n",
    "# Add a box labeled \"TF-IDF Vectorizer\" in the middle of the pipeline, with a yellow (khaki) background\n",
    "ax.text(0.35, 0.5, \"TF-IDF Vectorizer\", bbox=dict(facecolor='khaki', alpha=0.5), fontsize=14)\n",
    "\n",
    "# Draw an arrow from \"TF-IDF Vectorizer\" to \"MLP Model\"\n",
    "ax.arrow(0.56, 0.5, 0.08, 0, head_width=0.05, head_length=0.02, fc='gray', ec='gray')\n",
    "\n",
    "# Add a box labeled \"MLP Model\" further right, with a light green background\n",
    "ax.text(0.67, 0.5, \"MLP Model\", bbox=dict(facecolor='palegreen', alpha=0.5), fontsize=14)\n",
    "\n",
    "# Draw an arrow from \"MLP Model\" to the final prediction box\n",
    "ax.arrow(0.80, 0.5, 0.10, 0, head_width=0.05, head_length=0.02, fc='gray', ec='gray')\n",
    "\n",
    "# Place the final box \"Phishing/Legit\" at the end, with a pink background; \"\\n\" splits the label into two lines\n",
    "ax.text(0.92, 0.5, \"Phishing/\\nLegit\", bbox=dict(facecolor='salmon', alpha=0.5), fontsize=14)\n",
    "\n",
    "# Add a title to the diagram for context\n",
    "plt.title(\"Phishing Email Detection Pipeline\")\n",
    "\n",
    "\n",
    "plt.show()\n",
    "\n"
   ]
  },
  {
   "cell_type": "code",
   "execution_count": 18,
   "id": "3e50d66d-a47b-473e-8596-87587e3cd02c",
   "metadata": {},
   "outputs": [
    {
     "data": {
      "text/plain": [
       "'mlp_pipeline.png'"
      ]
     },
     "execution_count": 18,
     "metadata": {},
     "output_type": "execute_result"
    }
   ],
   "source": [
    "\n",
    "# Create a new directed graph object called 'dot', with a descriptive comment and output format as PNG\n",
    "dot = Digraph(comment='Phishing Email Detection MLP Pipeline', format='png')\n",
    "\n",
    "# Set the direction of the graph layout to Left-to-Right (LR), so nodes are arranged in a horizontal pipeline\n",
    "dot.attr(rankdir='LR')\n",
    "\n",
    "# Add the first node (A) labeled \"Raw Emails (Text)\"—the starting point of your pipeline\n",
    "dot.node('A', 'Raw Emails (Text)')\n",
    "\n",
    "# Add the second node (B) labeled \"Preprocessing & TF-IDF Vectorizer\"—represents feature extraction\n",
    "dot.node('B', 'Preprocessing & TF-IDF Vectorizer')\n",
    "\n",
    "# Add the third node (C) labeled \"MLP Model\", with a line break to describe its layers\n",
    "dot.node('C', 'MLP Model\\n(Dense→Dropout→Dense→Dropout→Output)')\n",
    "\n",
    "# Add the fourth node (D) labeled \"Prediction\", with a line break for \"Phishing/Legit\" outcome\n",
    "dot.node('D', 'Prediction\\n(Phishing/Legit)')\n",
    "\n",
    "# Create directed edges (arrows) from A to B, B to C, and C to D, showing flow of data through the pipeline\n",
    "dot.edges(['AB', 'BC', 'CD'])\n",
    "\n",
    "# Render the graph to a PNG file named 'mlp_pipeline.png' and open it in the default image viewer\n",
    "dot.render('mlp_pipeline', view=True)\n",
    "\n",
    "\n"
   ]
  },
  {
   "cell_type": "code",
   "execution_count": null,
   "id": "816a16f4-fcf0-4f70-8a23-47c7cd980519",
   "metadata": {},
   "outputs": [],
   "source": []
  }
 ],
 "metadata": {
  "kernelspec": {
   "display_name": "Python (311_myenv)",
   "language": "python",
   "name": "311_myenv"
  },
  "language_info": {
   "codemirror_mode": {
    "name": "ipython",
    "version": 3
   },
   "file_extension": ".py",
   "mimetype": "text/x-python",
   "name": "python",
   "nbconvert_exporter": "python",
   "pygments_lexer": "ipython3",
   "version": "3.11.9"
  }
 },
 "nbformat": 4,
 "nbformat_minor": 5
}
