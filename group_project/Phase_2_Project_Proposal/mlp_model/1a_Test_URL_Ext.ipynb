{
 "cells": [
  {
   "cell_type": "markdown",
   "id": "f6811568",
   "metadata": {},
   "source": [
    "Objective: \n",
    "1) Verify (without data snooping) that URLExtraction works.\n",
    "2) Ensure that we know what is output from each function we use\n",
    "    in all forseeable scenarios\n",
    "\n",
    "ToDo:\n",
    "\n",
    "a: Build mock dataframe (only need URL column)\n",
    "- Need to ensure we cover\n",
    "    - no URL\n",
    "    - normal URL\n",
    "    - abnormal URL\n",
    "    - one URL\n",
    "    - numerous URLs\n",
    "    - duplicate URLs\n",
    "    \n",
    "One case for each should be sufficient\n",
    "\n",
    "b: Test that the url_extraction class works"
   ]
  },
  {
   "cell_type": "code",
   "execution_count": 1,
   "id": "cb6f468d",
   "metadata": {},
   "outputs": [
    {
     "data": {
      "text/plain": [
       "<module 'URLExtraction' from '/home/rod/MyApps/git_repos/wpi_cs534_group_project/phase_2/data_prep/URLExtraction.py'>"
      ]
     },
     "execution_count": 1,
     "metadata": {},
     "output_type": "execute_result"
    }
   ],
   "source": [
    "import pandas as pd\n",
    "import importlib\n",
    "import URLExtraction\n",
    "from URLExtraction import url_extraction\n",
    "\n",
    "importlib.reload(URLExtraction)"
   ]
  },
  {
   "cell_type": "code",
   "execution_count": 2,
   "id": "5b893457",
   "metadata": {},
   "outputs": [],
   "source": [
    "test_data = {\n",
    "    'body': [\n",
    "        '',\n",
    "        'Testing, no url.',\n",
    "        'Be sure to use the http protocol.',\n",
    "        'http://www.exampleURL.com',\n",
    "        'manythanks.cu.cc',\n",
    "        'www.manythanks.cu.cc',\n",
    "        'http://www.exampleURL.com, manythanks.cu.cc, www.manythanks.cu.cc, and of course discordapp.com',\n",
    "        'google.com, google.com, google.com, silly.co, sample.cc, silly.co',\n",
    "        'http://www.exampleURL.com, http://www.exampleURL.com, http://www.exampleURL.com',\n",
    "        'google.com, google.com/test, google.com/test='\n",
    "    ]\n",
    "}\n",
    "\n",
    "test_df = pd.DataFrame(test_data)"
   ]
  },
  {
   "cell_type": "code",
   "execution_count": 3,
   "id": "fa1cb94a",
   "metadata": {},
   "outputs": [],
   "source": [
    "get_url = url_extraction()"
   ]
  },
  {
   "cell_type": "code",
   "execution_count": 4,
   "id": "4dc97cb7",
   "metadata": {},
   "outputs": [],
   "source": [
    "out_df = get_url.df_extractor(test_df, 'body', 'url_dict')"
   ]
  },
  {
   "cell_type": "code",
   "execution_count": 5,
   "id": "fb012ad1",
   "metadata": {},
   "outputs": [
    {
     "data": {
      "text/html": [
       "<div>\n",
       "<style scoped>\n",
       "    .dataframe tbody tr th:only-of-type {\n",
       "        vertical-align: middle;\n",
       "    }\n",
       "\n",
       "    .dataframe tbody tr th {\n",
       "        vertical-align: top;\n",
       "    }\n",
       "\n",
       "    .dataframe thead th {\n",
       "        text-align: right;\n",
       "    }\n",
       "</style>\n",
       "<table border=\"1\" class=\"dataframe\">\n",
       "  <thead>\n",
       "    <tr style=\"text-align: right;\">\n",
       "      <th></th>\n",
       "      <th>body</th>\n",
       "      <th>url_dict</th>\n",
       "    </tr>\n",
       "  </thead>\n",
       "  <tbody>\n",
       "    <tr>\n",
       "      <th>0</th>\n",
       "      <td></td>\n",
       "      <td>{}</td>\n",
       "    </tr>\n",
       "    <tr>\n",
       "      <th>1</th>\n",
       "      <td>Testing, no url.</td>\n",
       "      <td>{}</td>\n",
       "    </tr>\n",
       "    <tr>\n",
       "      <th>2</th>\n",
       "      <td>Be sure to use the http protocol.</td>\n",
       "      <td>{}</td>\n",
       "    </tr>\n",
       "    <tr>\n",
       "      <th>3</th>\n",
       "      <td>http://www.exampleURL.com</td>\n",
       "      <td>{'http://www.exampleURL.com': 1}</td>\n",
       "    </tr>\n",
       "    <tr>\n",
       "      <th>4</th>\n",
       "      <td>manythanks.cu.cc</td>\n",
       "      <td>{'manythanks.cu.cc': 1}</td>\n",
       "    </tr>\n",
       "    <tr>\n",
       "      <th>5</th>\n",
       "      <td>www.manythanks.cu.cc</td>\n",
       "      <td>{'www.manythanks.cu.cc': 1}</td>\n",
       "    </tr>\n",
       "    <tr>\n",
       "      <th>6</th>\n",
       "      <td>http://www.exampleURL.com, manythanks.cu.cc, w...</td>\n",
       "      <td>{'http://www.exampleURL.com': 1, 'www.manythan...</td>\n",
       "    </tr>\n",
       "    <tr>\n",
       "      <th>7</th>\n",
       "      <td>google.com, google.com, google.com, silly.co, ...</td>\n",
       "      <td>{'google.com': 3, 'silly.co': 2, 'sample.cc': 1}</td>\n",
       "    </tr>\n",
       "    <tr>\n",
       "      <th>8</th>\n",
       "      <td>http://www.exampleURL.com, http://www.exampleU...</td>\n",
       "      <td>{'http://www.exampleURL.com': 3}</td>\n",
       "    </tr>\n",
       "    <tr>\n",
       "      <th>9</th>\n",
       "      <td>google.com, google.com/test, google.com/test=</td>\n",
       "      <td>{'google.com': 1, 'google.com/test,': 1, 'goog...</td>\n",
       "    </tr>\n",
       "  </tbody>\n",
       "</table>\n",
       "</div>"
      ],
      "text/plain": [
       "                                                body  \\\n",
       "0                                                      \n",
       "1                                   Testing, no url.   \n",
       "2                  Be sure to use the http protocol.   \n",
       "3                          http://www.exampleURL.com   \n",
       "4                                   manythanks.cu.cc   \n",
       "5                               www.manythanks.cu.cc   \n",
       "6  http://www.exampleURL.com, manythanks.cu.cc, w...   \n",
       "7  google.com, google.com, google.com, silly.co, ...   \n",
       "8  http://www.exampleURL.com, http://www.exampleU...   \n",
       "9      google.com, google.com/test, google.com/test=   \n",
       "\n",
       "                                            url_dict  \n",
       "0                                                 {}  \n",
       "1                                                 {}  \n",
       "2                                                 {}  \n",
       "3                   {'http://www.exampleURL.com': 1}  \n",
       "4                            {'manythanks.cu.cc': 1}  \n",
       "5                        {'www.manythanks.cu.cc': 1}  \n",
       "6  {'http://www.exampleURL.com': 1, 'www.manythan...  \n",
       "7   {'google.com': 3, 'silly.co': 2, 'sample.cc': 1}  \n",
       "8                   {'http://www.exampleURL.com': 3}  \n",
       "9  {'google.com': 1, 'google.com/test,': 1, 'goog...  "
      ]
     },
     "execution_count": 5,
     "metadata": {},
     "output_type": "execute_result"
    }
   ],
   "source": [
    "out_df"
   ]
  },
  {
   "cell_type": "code",
   "execution_count": 6,
   "id": "e090d185",
   "metadata": {},
   "outputs": [
    {
     "data": {
      "text/plain": [
       "<module 'URLHandling' from '/home/rod/MyApps/git_repos/wpi_cs534_group_project/phase_2/data_prep/URLHandling.py'>"
      ]
     },
     "execution_count": 6,
     "metadata": {},
     "output_type": "execute_result"
    }
   ],
   "source": [
    "import URLHandling\n",
    "importlib.reload(URLHandling)"
   ]
  },
  {
   "cell_type": "code",
   "execution_count": 7,
   "id": "458c6983",
   "metadata": {},
   "outputs": [],
   "source": [
    "handle_urls = URLHandling.url_handling()"
   ]
  },
  {
   "cell_type": "code",
   "execution_count": 8,
   "id": "846ede4f",
   "metadata": {},
   "outputs": [
    {
     "name": "stdout",
     "output_type": "stream",
     "text": [
      "['body', 'url_dict']\n"
     ]
    }
   ],
   "source": [
    "print(list(out_df.columns))"
   ]
  },
  {
   "cell_type": "code",
   "execution_count": 9,
   "id": "6fe8b974",
   "metadata": {},
   "outputs": [],
   "source": [
    "out_df2 = handle_urls.url_replacement(out_df, 'body', 'url_dict', 'cleaned_body', indexed=True)"
   ]
  },
  {
   "cell_type": "code",
   "execution_count": 10,
   "id": "c6b8ddd4",
   "metadata": {},
   "outputs": [
    {
     "data": {
      "text/html": [
       "<div>\n",
       "<style scoped>\n",
       "    .dataframe tbody tr th:only-of-type {\n",
       "        vertical-align: middle;\n",
       "    }\n",
       "\n",
       "    .dataframe tbody tr th {\n",
       "        vertical-align: top;\n",
       "    }\n",
       "\n",
       "    .dataframe thead th {\n",
       "        text-align: right;\n",
       "    }\n",
       "</style>\n",
       "<table border=\"1\" class=\"dataframe\">\n",
       "  <thead>\n",
       "    <tr style=\"text-align: right;\">\n",
       "      <th></th>\n",
       "      <th>body</th>\n",
       "      <th>url_dict</th>\n",
       "      <th>cleaned_body</th>\n",
       "    </tr>\n",
       "  </thead>\n",
       "  <tbody>\n",
       "    <tr>\n",
       "      <th>0</th>\n",
       "      <td></td>\n",
       "      <td>{}</td>\n",
       "      <td></td>\n",
       "    </tr>\n",
       "    <tr>\n",
       "      <th>1</th>\n",
       "      <td>Testing, no url.</td>\n",
       "      <td>{}</td>\n",
       "      <td>Testing, no url.</td>\n",
       "    </tr>\n",
       "    <tr>\n",
       "      <th>2</th>\n",
       "      <td>Be sure to use the http protocol.</td>\n",
       "      <td>{}</td>\n",
       "      <td>Be sure to use the http protocol.</td>\n",
       "    </tr>\n",
       "    <tr>\n",
       "      <th>3</th>\n",
       "      <td>http://www.exampleURL.com</td>\n",
       "      <td>{'http://www.exampleURL.com': 1}</td>\n",
       "      <td>&lt;url1&gt;</td>\n",
       "    </tr>\n",
       "    <tr>\n",
       "      <th>4</th>\n",
       "      <td>manythanks.cu.cc</td>\n",
       "      <td>{'manythanks.cu.cc': 1}</td>\n",
       "      <td>&lt;url1&gt;</td>\n",
       "    </tr>\n",
       "    <tr>\n",
       "      <th>5</th>\n",
       "      <td>www.manythanks.cu.cc</td>\n",
       "      <td>{'www.manythanks.cu.cc': 1}</td>\n",
       "      <td>&lt;url1&gt;</td>\n",
       "    </tr>\n",
       "    <tr>\n",
       "      <th>6</th>\n",
       "      <td>http://www.exampleURL.com, manythanks.cu.cc, w...</td>\n",
       "      <td>{'http://www.exampleURL.com': 1, 'www.manythan...</td>\n",
       "      <td>&lt;url1&gt;, &lt;url3&gt;, &lt;url2&gt;, and of course &lt;url4&gt;</td>\n",
       "    </tr>\n",
       "    <tr>\n",
       "      <th>7</th>\n",
       "      <td>google.com, google.com, google.com, silly.co, ...</td>\n",
       "      <td>{'google.com': 3, 'silly.co': 2, 'sample.cc': 1}</td>\n",
       "      <td>&lt;url1&gt;, &lt;url1&gt;, &lt;url1&gt;, &lt;url2&gt;, &lt;url3&gt;, &lt;url2&gt;</td>\n",
       "    </tr>\n",
       "    <tr>\n",
       "      <th>8</th>\n",
       "      <td>http://www.exampleURL.com, http://www.exampleU...</td>\n",
       "      <td>{'http://www.exampleURL.com': 3}</td>\n",
       "      <td>&lt;url1&gt;, &lt;url1&gt;, &lt;url1&gt;</td>\n",
       "    </tr>\n",
       "    <tr>\n",
       "      <th>9</th>\n",
       "      <td>google.com, google.com/test, google.com/test=</td>\n",
       "      <td>{'google.com': 1, 'google.com/test,': 1, 'goog...</td>\n",
       "      <td>&lt;url1&gt;, &lt;url1&gt;/test, &lt;url1&gt;/test=</td>\n",
       "    </tr>\n",
       "  </tbody>\n",
       "</table>\n",
       "</div>"
      ],
      "text/plain": [
       "                                                body  \\\n",
       "0                                                      \n",
       "1                                   Testing, no url.   \n",
       "2                  Be sure to use the http protocol.   \n",
       "3                          http://www.exampleURL.com   \n",
       "4                                   manythanks.cu.cc   \n",
       "5                               www.manythanks.cu.cc   \n",
       "6  http://www.exampleURL.com, manythanks.cu.cc, w...   \n",
       "7  google.com, google.com, google.com, silly.co, ...   \n",
       "8  http://www.exampleURL.com, http://www.exampleU...   \n",
       "9      google.com, google.com/test, google.com/test=   \n",
       "\n",
       "                                            url_dict  \\\n",
       "0                                                 {}   \n",
       "1                                                 {}   \n",
       "2                                                 {}   \n",
       "3                   {'http://www.exampleURL.com': 1}   \n",
       "4                            {'manythanks.cu.cc': 1}   \n",
       "5                        {'www.manythanks.cu.cc': 1}   \n",
       "6  {'http://www.exampleURL.com': 1, 'www.manythan...   \n",
       "7   {'google.com': 3, 'silly.co': 2, 'sample.cc': 1}   \n",
       "8                   {'http://www.exampleURL.com': 3}   \n",
       "9  {'google.com': 1, 'google.com/test,': 1, 'goog...   \n",
       "\n",
       "                                     cleaned_body  \n",
       "0                                                  \n",
       "1                                Testing, no url.  \n",
       "2               Be sure to use the http protocol.  \n",
       "3                                          <url1>  \n",
       "4                                          <url1>  \n",
       "5                                          <url1>  \n",
       "6    <url1>, <url3>, <url2>, and of course <url4>  \n",
       "7  <url1>, <url1>, <url1>, <url2>, <url3>, <url2>  \n",
       "8                          <url1>, <url1>, <url1>  \n",
       "9               <url1>, <url1>/test, <url1>/test=  "
      ]
     },
     "execution_count": 10,
     "metadata": {},
     "output_type": "execute_result"
    }
   ],
   "source": [
    "out_df2"
   ]
  },
  {
   "cell_type": "code",
   "execution_count": null,
   "id": "047bb5ee",
   "metadata": {},
   "outputs": [],
   "source": []
  },
  {
   "cell_type": "code",
   "execution_count": null,
   "id": "5b26d98c-af8f-4014-b487-d9e9bc331347",
   "metadata": {},
   "outputs": [],
   "source": []
  }
 ],
 "metadata": {
  "kernelspec": {
   "display_name": "Python 3 (ipykernel)",
   "language": "python",
   "name": "python3"
  },
  "language_info": {
   "codemirror_mode": {
    "name": "ipython",
    "version": 3
   },
   "file_extension": ".py",
   "mimetype": "text/x-python",
   "name": "python",
   "nbconvert_exporter": "python",
   "pygments_lexer": "ipython3",
   "version": "3.11.9"
  }
 },
 "nbformat": 4,
 "nbformat_minor": 5
}
