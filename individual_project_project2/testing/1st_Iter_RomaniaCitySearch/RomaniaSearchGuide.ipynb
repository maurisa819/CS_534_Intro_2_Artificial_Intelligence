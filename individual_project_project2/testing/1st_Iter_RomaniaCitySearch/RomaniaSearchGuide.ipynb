{
 "cells": [
  {
   "cell_type": "markdown",
   "metadata": {},
   "source": [
    "# 🇷🇴 Romania Search Project - Usage Guide\n",
    "This notebook demonstrates how to use the files in the `RomaniaCitySearch.zip` project.\n",
    "\n",
    "You can run the search algorithms, visualize the paths, or test the implementation."
   ]
  },
  {
   "cell_type": "code",
   "execution_count": null,
   "metadata": {},
   "outputs": [],
   "source": [
    "# Run search algorithms between two cities\n",
    "from search_algorithms import greedy_best_first_search, a_star_search, hill_climbing, simulated_annealing\n",
    "\n",
    "origin = 'Arad'\n",
    "destination = 'Bucharest'\n",
    "\n",
    "print("Greedy Best-First:", greedy_best_first_search(origin, destination))\n",
    "print("A* Search:", a_star_search(origin, destination))\n",
    "print("Hill Climbing:", hill_climbing(origin, destination))\n",
    "print("Simulated Annealing:", simulated_annealing(origin, destination))"
   ]
  },
  {
   "cell_type": "code",
   "execution_count": null,
   "metadata": {},
   "outputs": [],
   "source": [
    "# Visualize the result\n",
    "from visualization import draw_path\n",
    "path = a_star_search("Arad", "Bucharest")\n",
    "draw_path(path, title="A* Search from Arad to Bucharest")"
   ]
  },
  {
   "cell_type": "code",
   "execution_count": null,
   "metadata": {},
   "outputs": [],
   "source": [
    "# Run unit tests\n",
    "!python3 test_search_algorithms.py"
   ]
  }
 ],
 "metadata": {
  "kernelspec": {
   "display_name": "Python 3",
   "language": "python",
   "name": "python3"
  },
  "language_info": {
   "name": "python",
   "version": ""
  }
 },
 "nbformat": 4,
 "nbformat_minor": 2
}
